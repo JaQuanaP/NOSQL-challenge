{
 "cells": [
  {
   "cell_type": "markdown",
   "id": "9a57c4c6",
   "metadata": {},
   "source": [
    "# Eat Safe, Love"
   ]
  },
  {
   "cell_type": "markdown",
   "id": "064ef857",
   "metadata": {},
   "source": [
    "## Notebook Set Up"
   ]
  },
  {
   "cell_type": "code",
   "execution_count": 5,
   "id": "87ff596a-35b8-463e-94c3-cebdecf0f128",
   "metadata": {},
   "outputs": [
    {
     "name": "stdout",
     "output_type": "stream",
     "text": [
      "Requirement already satisfied: pymongo in c:\\users\\pharr\\anaconda3\\lib\\site-packages (4.8.0)\n",
      "Requirement already satisfied: dnspython<3.0.0,>=1.16.0 in c:\\users\\pharr\\anaconda3\\lib\\site-packages (from pymongo) (2.6.1)\n"
     ]
    }
   ],
   "source": [
    "!pip install pymongo\n"
   ]
  },
  {
   "cell_type": "code",
   "execution_count": 1,
   "id": "3ecdd008",
   "metadata": {},
   "outputs": [],
   "source": [
    "from pymongo import MongoClient\n",
    "import pandas as pd\n",
    "from pprint import pprint"
   ]
  },
  {
   "cell_type": "code",
   "execution_count": 3,
   "id": "59390c4a",
   "metadata": {},
   "outputs": [],
   "source": [
    "# Create an instance of MongoClient\n",
    "mongo = client = MongoClient('mongodb://localhost:27017/')"
   ]
  },
  {
   "cell_type": "code",
   "execution_count": 37,
   "id": "88ebf31e-4693-44fe-849e-563fa40ce9d5",
   "metadata": {},
   "outputs": [
    {
     "name": "stdout",
     "output_type": "stream",
     "text": [
      "['admin', 'config', 'local', 'uk_foods']\n"
     ]
    }
   ],
   "source": [
    "# confirm that our new database was created \n",
    "print(mongo.list_database_names()) # should include 'uk_food'"
   ]
  },
  {
   "cell_type": "code",
   "execution_count": 39,
   "id": "1f912ea5-6f87-4f3d-9ebd-d034653ee0f7",
   "metadata": {},
   "outputs": [],
   "source": [
    "# Access the database\n",
    "db = client.uk_food"
   ]
  },
  {
   "cell_type": "code",
   "execution_count": 29,
   "id": "71e373c1",
   "metadata": {},
   "outputs": [],
   "source": [
    "# assign the uk_food database to a variable name\n",
    "foodDB = mongo['uk_food']"
   ]
  },
  {
   "cell_type": "code",
   "execution_count": 61,
   "id": "b6e34492-5867-41e8-83b2-b51b1c25fb21",
   "metadata": {},
   "outputs": [
    {
     "name": "stdout",
     "output_type": "stream",
     "text": [
      "['establishments']\n"
     ]
    }
   ],
   "source": [
    "# review the collections in our new database\n",
    "print(foodDB.list_collection_names())"
   ]
  },
  {
   "cell_type": "code",
   "execution_count": 63,
   "id": "8d9f71ce-d60e-42d7-84cf-9dd48cc04278",
   "metadata": {},
   "outputs": [
    {
     "name": "stdout",
     "output_type": "stream",
     "text": [
      "{'AddressLine1': 'Penang Flavours',\n",
      " 'AddressLine2': '146A Plumstead Rd',\n",
      " 'AddressLine3': 'London',\n",
      " 'AddressLine4': '',\n",
      " 'BusinessName': 'Penang Flavours',\n",
      " 'BusinessType': 'Restaurant/Cafe/Canteen',\n",
      " 'BusinessTypeID': '',\n",
      " 'Distance': 4623.972328074718,\n",
      " 'LocalAuthorityCode': '511',\n",
      " 'LocalAuthorityEmailAddress': 'health@royalgreenwich.gov.uk',\n",
      " 'LocalAuthorityName': 'Greenwich',\n",
      " 'LocalAuthorityWebSite': 'http://www.royalgreenwich.gov.uk',\n",
      " 'NewRatingPending': True,\n",
      " 'Phone': '',\n",
      " 'PostCode': 'SE18 7DY',\n",
      " 'RightToReply': '',\n",
      " 'SchemeType': 'FHRS',\n",
      " '_id': ObjectId('66c7496be21dd31456b20b1e'),\n",
      " 'geocode': {'latitude': '51.49014200', 'longitude': '0.08384000'},\n",
      " 'scores': {'ConfidenceInManagement': '', 'Hygiene': '', 'Structural': ''}}\n"
     ]
    }
   ],
   "source": [
    "# review a document in the establishments collection - use find_one()\n",
    "pprint(foodDB.establishments.find_one())\n"
   ]
  },
  {
   "cell_type": "code",
   "execution_count": 71,
   "id": "928abfe2-5dd4-45f5-8921-5acace25de6a",
   "metadata": {},
   "outputs": [],
   "source": [
    "# Create a dictionary for the new restaurant data\n",
    "new_restaurant = {\n",
    "    \"BusinessName\": \"Penang Flavours\",\n",
    "    \"BusinessType\": \"Restaurant/Cafe/Canteen\",\n",
    "    \"BusinessTypeID\": \"\",\n",
    "    \"AddressLine1\": \"Penang Flavours\",\n",
    "    \"AddressLine2\": \"146A Plumstead Rd\",\n",
    "    \"AddressLine3\": \"London\",\n",
    "    \"AddressLine4\": \"\",\n",
    "    \"PostCode\": \"SE18 7DY\",\n",
    "    \"Phone\": \"\",\n",
    "    \"LocalAuthorityCode\": \"511\",\n",
    "    \"LocalAuthorityName\": \"Greenwich\",\n",
    "    \"LocalAuthorityWebSite\": \"http://www.royalgreenwich.gov.uk\",\n",
    "    \"LocalAuthorityEmailAddress\": \"health@royalgreenwich.gov.uk\",\n",
    "    \"scores\": {\n",
    "        \"Hygiene\": \"\",\n",
    "        \"Structural\": \"\",\n",
    "        \"ConfidenceInManagement\": \"\"\n",
    "    },\n",
    "    \"SchemeType\": \"FHRS\",\n",
    "    \"geocode\": {\n",
    "        \"longitude\": \"0.08384000\",\n",
    "        \"latitude\": \"51.49014200\"\n",
    "    },\n",
    "    \"RightToReply\": \"\",\n",
    "    \"Distance\": 4623.9723280747176,\n",
    "    \"NewRatingPending\": True\n",
    "}\n",
    "\n",
    "\n"
   ]
  },
  {
   "cell_type": "code",
   "execution_count": 73,
   "id": "0941bd61-a11a-42e6-8c96-4517d5eab094",
   "metadata": {},
   "outputs": [
    {
     "data": {
      "text/plain": [
       "InsertOneResult(ObjectId('66c75d6ee21dd31456b20b20'), acknowledged=True)"
      ]
     },
     "execution_count": 73,
     "metadata": {},
     "output_type": "execute_result"
    }
   ],
   "source": [
    "# Insert the new restaurant collectin - use insert_one()\n",
    "establishments.insert_one(new_restaurant)"
   ]
  },
  {
   "cell_type": "code",
   "execution_count": 75,
   "id": "d1f37d8d-aac1-4b65-9911-f8005a5e2b14",
   "metadata": {},
   "outputs": [
    {
     "name": "stdout",
     "output_type": "stream",
     "text": [
      "{'AddressLine1': 'Penang Flavours',\n",
      " 'AddressLine2': '146A Plumstead Rd',\n",
      " 'AddressLine3': 'London',\n",
      " 'AddressLine4': '',\n",
      " 'BusinessName': 'Penang Flavours',\n",
      " 'BusinessType': 'Restaurant/Cafe/Canteen',\n",
      " 'BusinessTypeID': '',\n",
      " 'Distance': 4623.972328074718,\n",
      " 'LocalAuthorityCode': '511',\n",
      " 'LocalAuthorityEmailAddress': 'health@royalgreenwich.gov.uk',\n",
      " 'LocalAuthorityName': 'Greenwich',\n",
      " 'LocalAuthorityWebSite': 'http://www.royalgreenwich.gov.uk',\n",
      " 'NewRatingPending': True,\n",
      " 'Phone': '',\n",
      " 'PostCode': 'SE18 7DY',\n",
      " 'RightToReply': '',\n",
      " 'SchemeType': 'FHRS',\n",
      " '_id': ObjectId('66c7496be21dd31456b20b1e'),\n",
      " 'geocode': {'latitude': '51.49014200', 'longitude': '0.08384000'},\n",
      " 'scores': {'ConfidenceInManagement': '', 'Hygiene': '', 'Structural': ''}}\n"
     ]
    }
   ],
   "source": [
    "# check that the new restaurant was inserted- \"BusinessName\":\"Penang Flavours\"\n",
    "pprint(establishments.find_one(\n",
    "    {\"BusinessName\": \"Penang Flavours\"}\n",
    "))    "
   ]
  },
  {
   "cell_type": "code",
   "execution_count": 79,
   "id": "d03051b2-c012-4b2f-bdac-0759272a06ec",
   "metadata": {},
   "outputs": [
    {
     "name": "stdout",
     "output_type": "stream",
     "text": [
      "None\n"
     ]
    }
   ],
   "source": [
    "# Find the BusinessID for \"Restaurant/Cafe/Canteen\" and return only the BusinessTypeID and BusinessType fields\n",
    "query = {\"BuisnessType\": \"Restaurant/Cafe/Canteen\"}\n",
    "fields = {\n",
    "    \"BusinessTypeID\": 1,\n",
    "    \"BusinessType\": 1\n",
    "}\n",
    "\n",
    "pprint(establishments.find_one(query, fields))"
   ]
  },
  {
   "cell_type": "code",
   "execution_count": 81,
   "id": "709592fa-b790-4145-b29f-51faeb443409",
   "metadata": {},
   "outputs": [
    {
     "data": {
      "text/plain": [
       "UpdateResult({'n': 1, 'nModified': 1, 'ok': 1.0, 'updatedExisting': True}, acknowledged=True)"
      ]
     },
     "execution_count": 81,
     "metadata": {},
     "output_type": "execute_result"
    }
   ],
   "source": [
    "# update the new restaurant with the correct BusinessTypeID - update_one\n",
    "establishments.update_one(\n",
    "    {\"BusinessName\": \"Penang Flavours\"},\n",
    "    {\n",
    "        \"$set\":\n",
    "            {\"BusinessTypeID\": 1}\n",
    "    }\n",
    "\n",
    ")"
   ]
  },
  {
   "cell_type": "code",
   "execution_count": 83,
   "id": "5c59e2d5-2c8d-404d-a096-fc4da3991159",
   "metadata": {},
   "outputs": [
    {
     "name": "stdout",
     "output_type": "stream",
     "text": [
      "{'AddressLine1': 'Penang Flavours',\n",
      " 'AddressLine2': '146A Plumstead Rd',\n",
      " 'AddressLine3': 'London',\n",
      " 'AddressLine4': '',\n",
      " 'BusinessName': 'Penang Flavours',\n",
      " 'BusinessType': 'Restaurant/Cafe/Canteen',\n",
      " 'BusinessTypeID': 1,\n",
      " 'Distance': 4623.972328074718,\n",
      " 'LocalAuthorityCode': '511',\n",
      " 'LocalAuthorityEmailAddress': 'health@royalgreenwich.gov.uk',\n",
      " 'LocalAuthorityName': 'Greenwich',\n",
      " 'LocalAuthorityWebSite': 'http://www.royalgreenwich.gov.uk',\n",
      " 'NewRatingPending': True,\n",
      " 'Phone': '',\n",
      " 'PostCode': 'SE18 7DY',\n",
      " 'RightToReply': '',\n",
      " 'SchemeType': 'FHRS',\n",
      " '_id': ObjectId('66c7496be21dd31456b20b1e'),\n",
      " 'geocode': {'latitude': '51.49014200', 'longitude': '0.08384000'},\n",
      " 'scores': {'ConfidenceInManagement': '', 'Hygiene': '', 'Structural': ''}}\n"
     ]
    }
   ],
   "source": [
    "# confirm that the new restaurant was updated\n",
    "pprint(establishments.find_one(\n",
    "    {\"BusinessName\": \"Penang Flavours\"}\n",
    "))"
   ]
  },
  {
   "cell_type": "code",
   "execution_count": 89,
   "id": "11843e76-d94c-4cf0-9cf8-ec80725849d1",
   "metadata": {},
   "outputs": [
    {
     "data": {
      "text/plain": [
       "0"
      ]
     },
     "execution_count": 89,
     "metadata": {},
     "output_type": "execute_result"
    }
   ],
   "source": [
    "# Find how many documents have LocalAuthorityName as \"Dover\"\n",
    "doverDocs = establishments.count_documents({'LocalAuthorityName': 'Dover'})\n",
    "doverDocs"
   ]
  },
  {
   "cell_type": "code",
   "execution_count": 91,
   "id": "e49ee2ed-4166-455c-a484-0a71b7ad6812",
   "metadata": {},
   "outputs": [
    {
     "name": "stdout",
     "output_type": "stream",
     "text": [
      "{'AddressLine1': 'Penang Flavours',\n",
      " 'AddressLine2': '146A Plumstead Rd',\n",
      " 'AddressLine3': 'London',\n",
      " 'AddressLine4': '',\n",
      " 'BusinessName': 'Penang Flavours',\n",
      " 'BusinessType': 'Restaurant/Cafe/Canteen',\n",
      " 'BusinessTypeID': 1,\n",
      " 'Distance': 4623.972328074718,\n",
      " 'LocalAuthorityCode': '511',\n",
      " 'LocalAuthorityEmailAddress': 'health@royalgreenwich.gov.uk',\n",
      " 'LocalAuthorityName': 'Greenwich',\n",
      " 'LocalAuthorityWebSite': 'http://www.royalgreenwich.gov.uk',\n",
      " 'NewRatingPending': True,\n",
      " 'Phone': '',\n",
      " 'PostCode': 'SE18 7DY',\n",
      " 'RightToReply': '',\n",
      " 'SchemeType': 'FHRS',\n",
      " '_id': ObjectId('66c7496be21dd31456b20b1e'),\n",
      " 'geocode': {'latitude': '51.49014200', 'longitude': '0.08384000'},\n",
      " 'scores': {'ConfidenceInManagement': '', 'Hygiene': '', 'Structural': ''}}\n"
     ]
    }
   ],
   "source": [
    "# check that other documents remain with 'find_one'\n",
    "pprint(establishments.find_one())"
   ]
  },
  {
   "cell_type": "code",
   "execution_count": 55,
   "id": "11c9f11b",
   "metadata": {},
   "outputs": [],
   "source": [
    "# assign the collection to a variable\n",
    "establishments = foodDB['establishments']"
   ]
  },
  {
   "cell_type": "code",
   "execution_count": 95,
   "id": "e98af147-b708-4671-b96f-aa53b13bb5ae",
   "metadata": {},
   "outputs": [
    {
     "data": {
      "text/plain": [
       "UpdateResult({'n': 3, 'nModified': 3, 'ok': 1.0, 'updatedExisting': True}, acknowledged=True)"
      ]
     },
     "execution_count": 95,
     "metadata": {},
     "output_type": "execute_result"
    }
   ],
   "source": [
    "# Change the data type from string to Decimal for Longitude and Latitude\n",
    "establishments.update_many(\n",
    "    {},\n",
    "    [\n",
    "        {\n",
    "            '$set': {\n",
    "                'geocode.latitude': {'$toDouble': '$geocode.latitude'},\n",
    "                'geocode.longitude': {'$toDouble': '$geocode.longitude'}\n",
    "            }\n",
    "        }\n",
    "    ]\n",
    ")\n"
   ]
  },
  {
   "cell_type": "code",
   "execution_count": 97,
   "id": "28f9ef89-c5b6-4695-bb7f-466f12ef254c",
   "metadata": {},
   "outputs": [
    {
     "name": "stdout",
     "output_type": "stream",
     "text": [
      "{'AddressLine1': 'Penang Flavours',\n",
      " 'AddressLine2': '146A Plumstead Rd',\n",
      " 'AddressLine3': 'London',\n",
      " 'AddressLine4': '',\n",
      " 'BusinessName': 'Penang Flavours',\n",
      " 'BusinessType': 'Restaurant/Cafe/Canteen',\n",
      " 'BusinessTypeID': 1,\n",
      " 'Distance': 4623.972328074718,\n",
      " 'LocalAuthorityCode': '511',\n",
      " 'LocalAuthorityEmailAddress': 'health@royalgreenwich.gov.uk',\n",
      " 'LocalAuthorityName': 'Greenwich',\n",
      " 'LocalAuthorityWebSite': 'http://www.royalgreenwich.gov.uk',\n",
      " 'NewRatingPending': True,\n",
      " 'Phone': '',\n",
      " 'PostCode': 'SE18 7DY',\n",
      " 'RightToReply': '',\n",
      " 'SchemeType': 'FHRS',\n",
      " '_id': ObjectId('66c7496be21dd31456b20b1e'),\n",
      " 'geocode': {'latitude': 51.490142, 'longitude': 0.08384},\n",
      " 'scores': {'ConfidenceInManagement': '', 'Hygiene': '', 'Structural': ''}}\n"
     ]
    }
   ],
   "source": [
    "# check that the coordinates are now numbers\n",
    "pprint(establishments.find_one())"
   ]
  },
  {
   "cell_type": "markdown",
   "id": "d5671434",
   "metadata": {},
   "source": [
    "## Part 3: Exploratory Analysis\n",
    "Unless otherwise stated, for each question: \n",
    "* Use `count_documents` to display the number of documents contained in the result.\n",
    "* Display the first document in the results using `pprint`.\n",
    "* Convert the result to a Pandas DataFrame, print the number of rows in the DataFrame, and display the first 10 rows."
   ]
  },
  {
   "cell_type": "markdown",
   "id": "314bd884",
   "metadata": {},
   "source": [
    "### 1. Which establishments have a hygiene score equal to 20?"
   ]
  },
  {
   "cell_type": "code",
   "execution_count": 99,
   "id": "c2da7648",
   "metadata": {},
   "outputs": [
    {
     "name": "stdout",
     "output_type": "stream",
     "text": [
      "Number of establishments with a hygiene score of 20: 0\n",
      "None\n"
     ]
    }
   ],
   "source": [
    "# Find the establishments with a hygiene score of 20\n",
    "query = {\"scores.Hygiene\": 20}\n",
    "# Use count_documents to display the number of documents in the result\n",
    "count_hygiene_20 = establishments.count_documents(query)\n",
    "print(f\"Number of establishments with a hygiene score of 20: {count_hygiene_20}\")\n",
    "# Display the first document in the results using pprint\n",
    "first_hygiene_20 = establishments.find_one(query)\n",
    "pprint(first_hygiene_20)"
   ]
  },
  {
   "cell_type": "code",
   "execution_count": 103,
   "id": "a6e5cece",
   "metadata": {},
   "outputs": [
    {
     "name": "stdout",
     "output_type": "stream",
     "text": [
      "Number of rows in the DataFrame: 0\n"
     ]
    },
    {
     "data": {
      "text/html": [
       "<div>\n",
       "<style scoped>\n",
       "    .dataframe tbody tr th:only-of-type {\n",
       "        vertical-align: middle;\n",
       "    }\n",
       "\n",
       "    .dataframe tbody tr th {\n",
       "        vertical-align: top;\n",
       "    }\n",
       "\n",
       "    .dataframe thead th {\n",
       "        text-align: right;\n",
       "    }\n",
       "</style>\n",
       "<table border=\"1\" class=\"dataframe\">\n",
       "  <thead>\n",
       "    <tr style=\"text-align: right;\">\n",
       "      <th></th>\n",
       "    </tr>\n",
       "  </thead>\n",
       "  <tbody>\n",
       "  </tbody>\n",
       "</table>\n",
       "</div>"
      ],
      "text/plain": [
       "Empty DataFrame\n",
       "Columns: []\n",
       "Index: []"
      ]
     },
     "execution_count": 103,
     "metadata": {},
     "output_type": "execute_result"
    }
   ],
   "source": [
    "import pandas as pd\n",
    "\n",
    "# Find all establishments with a hygiene score of 20\n",
    "results = list(establishments.find(query))\n",
    "\n",
    "# Convert the result to a Pandas DataFrame\n",
    "df_hygiene_20 = pd.DataFrame(results)\n",
    "\n",
    "# Display the number of rows in the DataFrame\n",
    "print(f\"Number of rows in the DataFrame: {len(df_hygiene_20)}\")\n",
    "\n",
    "# Display the first 10 rows of the DataFrame\n",
    "df_hygiene_20.head(10)\n"
   ]
  },
  {
   "cell_type": "markdown",
   "id": "0ef4395a",
   "metadata": {},
   "source": [
    "### 2. Which establishments in London have a `RatingValue` greater than or equal to 4?"
   ]
  },
  {
   "cell_type": "code",
   "execution_count": 111,
   "id": "98d67667-3c3c-448c-850a-e50aadad747f",
   "metadata": {},
   "outputs": [
    {
     "name": "stdout",
     "output_type": "stream",
     "text": [
      "Number of establishments in London with a RatingValue >= 4: 0\n"
     ]
    },
    {
     "data": {
      "text/html": [
       "<div>\n",
       "<style scoped>\n",
       "    .dataframe tbody tr th:only-of-type {\n",
       "        vertical-align: middle;\n",
       "    }\n",
       "\n",
       "    .dataframe tbody tr th {\n",
       "        vertical-align: top;\n",
       "    }\n",
       "\n",
       "    .dataframe thead th {\n",
       "        text-align: right;\n",
       "    }\n",
       "</style>\n",
       "<table border=\"1\" class=\"dataframe\">\n",
       "  <thead>\n",
       "    <tr style=\"text-align: right;\">\n",
       "      <th></th>\n",
       "    </tr>\n",
       "  </thead>\n",
       "  <tbody>\n",
       "  </tbody>\n",
       "</table>\n",
       "</div>"
      ],
      "text/plain": [
       "Empty DataFrame\n",
       "Columns: []\n",
       "Index: []"
      ]
     },
     "execution_count": 111,
     "metadata": {},
     "output_type": "execute_result"
    }
   ],
   "source": [
    "import pandas as pd\n",
    "\n",
    "# Define the query to find establishments in London with a RatingValue >= 4\n",
    "query = {\n",
    "    \"LocalAuthorityName\": {\"$regex\": \"London\", \"$options\": \"i\"},\n",
    "    \"RatingValue\": {\"$gte\": 4}\n",
    "}\n",
    "\n",
    "# Find all establishments that match the query\n",
    "results = list(establishments.find(query))\n",
    "\n",
    "# Convert the result to a Pandas DataFrame\n",
    "df_london_high_rating = pd.DataFrame(results)\n",
    "\n",
    "# Display the number of rows in the DataFrame\n",
    "print(f\"Number of establishments in London with a RatingValue >= 4: {len(df_london_high_rating)}\")\n",
    "\n",
    "# Display the first 10 rows of the DataFrame\n",
    "df_london_high_rating.head(10)\n"
   ]
  },
  {
   "attachments": {},
   "cell_type": "markdown",
   "id": "4e570caf",
   "metadata": {},
   "source": [
    "### 3. What are the top 5 establishments with a `RatingValue` rating value of 5, sorted by lowest hygiene score, nearest to the new restaurant added, \"Penang Flavours\"?"
   ]
  },
  {
   "cell_type": "code",
   "execution_count": 115,
   "id": "01562ef0-f463-4a0f-a772-11ec13ce8049",
   "metadata": {},
   "outputs": [
    {
     "name": "stdout",
     "output_type": "stream",
     "text": [
      "Collecting geopy\n",
      "  Downloading geopy-2.4.1-py3-none-any.whl.metadata (6.8 kB)\n",
      "Collecting geographiclib<3,>=1.52 (from geopy)\n",
      "  Downloading geographiclib-2.0-py3-none-any.whl.metadata (1.4 kB)\n",
      "Downloading geopy-2.4.1-py3-none-any.whl (125 kB)\n",
      "   ---------------------------------------- 0.0/125.4 kB ? eta -:--:--\n",
      "   ------ -------------------------------- 20.5/125.4 kB 682.7 kB/s eta 0:00:01\n",
      "   ------------------- ------------------- 61.4/125.4 kB 825.8 kB/s eta 0:00:01\n",
      "   ---------------------------------------- 125.4/125.4 kB 1.2 MB/s eta 0:00:00\n",
      "Downloading geographiclib-2.0-py3-none-any.whl (40 kB)\n",
      "   ---------------------------------------- 0.0/40.3 kB ? eta -:--:--\n",
      "   ---------------------------------------- 40.3/40.3 kB ? eta 0:00:00\n",
      "Installing collected packages: geographiclib, geopy\n",
      "Successfully installed geographiclib-2.0 geopy-2.4.1\n"
     ]
    }
   ],
   "source": [
    "!pip install geopy\n"
   ]
  },
  {
   "cell_type": "code",
   "execution_count": 117,
   "id": "278dc5fe-7971-4325-969b-597e5faf9f74",
   "metadata": {},
   "outputs": [
    {
     "data": {
      "text/html": [
       "<div>\n",
       "<style scoped>\n",
       "    .dataframe tbody tr th:only-of-type {\n",
       "        vertical-align: middle;\n",
       "    }\n",
       "\n",
       "    .dataframe tbody tr th {\n",
       "        vertical-align: top;\n",
       "    }\n",
       "\n",
       "    .dataframe thead th {\n",
       "        text-align: right;\n",
       "    }\n",
       "</style>\n",
       "<table border=\"1\" class=\"dataframe\">\n",
       "  <thead>\n",
       "    <tr style=\"text-align: right;\">\n",
       "      <th></th>\n",
       "    </tr>\n",
       "  </thead>\n",
       "  <tbody>\n",
       "  </tbody>\n",
       "</table>\n",
       "</div>"
      ],
      "text/plain": [
       "Empty DataFrame\n",
       "Columns: []\n",
       "Index: []"
      ]
     },
     "execution_count": 117,
     "metadata": {},
     "output_type": "execute_result"
    }
   ],
   "source": [
    "from pymongo import ASCENDING\n",
    "from geopy.distance import geodesic\n",
    "\n",
    "# Step 1: Get the location of \"Penang Flavours\"\n",
    "penang_flavours = establishments.find_one({\"BusinessName\": \"Penang Flavours\"})\n",
    "penang_location = (penang_flavours['geocode']['latitude'], penang_flavours['geocode']['longitude'])\n",
    "\n",
    "# Step 2: Find establishments with a RatingValue of 5\n",
    "query = {\"RatingValue\": 5}\n",
    "results = list(establishments.find(query))\n",
    "\n",
    "# Step 3: Calculate distance and sort by Hygiene score and distance\n",
    "for result in results:\n",
    "    result_location = (result['geocode']['latitude'], result['geocode']['longitude'])\n",
    "    result['distance'] = geodesic(penang_location, result_location).meters\n",
    "\n",
    "# Sort by Hygiene score and distance\n",
    "sorted_results = sorted(results, key=lambda x: (x['scores']['Hygiene'], x['distance']))\n",
    "\n",
    "# Step 4: Convert the top 5 results to a Pandas DataFrame\n",
    "top_5_establishments = pd.DataFrame(sorted_results[:5])\n",
    "\n",
    "# Display the top 5 establishments\n",
    "top_5_establishments\n"
   ]
  },
  {
   "cell_type": "code",
   "execution_count": 119,
   "id": "7f599f3d",
   "metadata": {},
   "outputs": [],
   "source": [
    "from pymongo import ASCENDING\n",
    "\n",
    "# Step 1: Get the location of \"Penang Flavours\"\n",
    "penang_flavours = establishments.find_one({\"BusinessName\": \"Penang Flavours\"})\n",
    "latitude = penang_flavours['geocode']['latitude']\n",
    "longitude = penang_flavours['geocode']['longitude']\n",
    "\n",
    "# Step 2: Define the search boundaries\n",
    "degree_search = 0.01\n",
    "lat_min = latitude - degree_search\n",
    "lat_max = latitude + degree_search\n",
    "long_min = longitude - degree_search\n",
    "long_max = longitude + degree_search\n",
    "\n",
    "# Step 3: Define the query\n",
    "query = {\n",
    "    \"RatingValue\": 5,\n",
    "    \"geocode.latitude\": {\"$gte\": lat_min, \"$lte\": lat_max},\n",
    "    \"geocode.longitude\": {\"$gte\": long_min, \"$lte\": long_max}\n",
    "}\n",
    "\n",
    "# Step 4: Define the sort order\n",
    "sort = [(\"scores.Hygiene\", ASCENDING)]\n",
    "\n",
    "# Step 5: Define the limit for the number of results\n",
    "limit = 5\n",
    "\n",
    "# Step 6: Perform the query and sort\n",
    "results = list(establishments.find(query).sort(sort).limit(limit))\n",
    "\n",
    "# Step 7: Print the results\n",
    "for result in results:\n",
    "    pprint(result)\n",
    "\n"
   ]
  },
  {
   "cell_type": "code",
   "execution_count": 121,
   "id": "a6ad16f7",
   "metadata": {},
   "outputs": [
    {
     "data": {
      "text/html": [
       "<div>\n",
       "<style scoped>\n",
       "    .dataframe tbody tr th:only-of-type {\n",
       "        vertical-align: middle;\n",
       "    }\n",
       "\n",
       "    .dataframe tbody tr th {\n",
       "        vertical-align: top;\n",
       "    }\n",
       "\n",
       "    .dataframe thead th {\n",
       "        text-align: right;\n",
       "    }\n",
       "</style>\n",
       "<table border=\"1\" class=\"dataframe\">\n",
       "  <thead>\n",
       "    <tr style=\"text-align: right;\">\n",
       "      <th></th>\n",
       "    </tr>\n",
       "  </thead>\n",
       "  <tbody>\n",
       "  </tbody>\n",
       "</table>\n",
       "</div>"
      ],
      "text/plain": [
       "Empty DataFrame\n",
       "Columns: []\n",
       "Index: []"
      ]
     },
     "execution_count": 121,
     "metadata": {},
     "output_type": "execute_result"
    }
   ],
   "source": [
    "import pandas as pd\n",
    "\n",
    "# Convert the result to a Pandas DataFrame\n",
    "df_top_5_establishments = pd.DataFrame(results)\n",
    "\n",
    "# Display the DataFrame\n",
    "df_top_5_establishments\n",
    "\n"
   ]
  },
  {
   "cell_type": "markdown",
   "id": "67281254",
   "metadata": {},
   "source": [
    "### 4. How many establishments in each Local Authority area have a hygiene score of 0?"
   ]
  },
  {
   "cell_type": "code",
   "execution_count": 123,
   "id": "1ea31bc1-ba9c-46b7-a8e8-f18fe34d9306",
   "metadata": {},
   "outputs": [
    {
     "data": {
      "text/html": [
       "<div>\n",
       "<style scoped>\n",
       "    .dataframe tbody tr th:only-of-type {\n",
       "        vertical-align: middle;\n",
       "    }\n",
       "\n",
       "    .dataframe tbody tr th {\n",
       "        vertical-align: top;\n",
       "    }\n",
       "\n",
       "    .dataframe thead th {\n",
       "        text-align: right;\n",
       "    }\n",
       "</style>\n",
       "<table border=\"1\" class=\"dataframe\">\n",
       "  <thead>\n",
       "    <tr style=\"text-align: right;\">\n",
       "      <th></th>\n",
       "    </tr>\n",
       "  </thead>\n",
       "  <tbody>\n",
       "  </tbody>\n",
       "</table>\n",
       "</div>"
      ],
      "text/plain": [
       "Empty DataFrame\n",
       "Columns: []\n",
       "Index: []"
      ]
     },
     "execution_count": 123,
     "metadata": {},
     "output_type": "execute_result"
    }
   ],
   "source": [
    "# Define the aggregation pipeline\n",
    "pipeline = [\n",
    "    {\"$match\": {\"scores.Hygiene\": 0}},  # Match documents where Hygiene score is 0\n",
    "    {\"$group\": {\n",
    "        \"_id\": \"$LocalAuthorityName\",  # Group by Local Authority Name\n",
    "        \"count\": {\"$sum\": 1}  # Count the number of establishments in each group\n",
    "    }},\n",
    "    {\"$sort\": {\"count\": -1}}  # Sort by the count in descending order\n",
    "]\n",
    "\n",
    "# Execute the aggregation pipeline\n",
    "results = list(establishments.aggregate(pipeline))\n",
    "\n",
    "# Convert the result to a Pandas DataFrame\n",
    "df_hygiene_0_by_authority = pd.DataFrame(results)\n",
    "\n",
    "# Rename the columns for better readability\n",
    "df_hygiene_0_by_authority.rename(columns={\"_id\": \"LocalAuthorityName\", \"count\": \"Number of Establishments\"}, inplace=True)\n",
    "\n",
    "# Display the DataFrame\n",
    "df_hygiene_0_by_authority\n"
   ]
  },
  {
   "cell_type": "code",
   "execution_count": 125,
   "id": "4eeb227e",
   "metadata": {},
   "outputs": [
    {
     "name": "stdout",
     "output_type": "stream",
     "text": [
      "Number of Local Authorities with establishments having a hygiene score of 0: 0\n"
     ]
    }
   ],
   "source": [
    "# Define the aggregation pipeline\n",
    "pipeline = [\n",
    "    {\"$match\": {\"scores.Hygiene\": 0}},  # Match establishments with a hygiene score of 0\n",
    "    {\"$group\": {\n",
    "        \"_id\": \"$LocalAuthorityName\",  # Group by Local Authority Name\n",
    "        \"count\": {\"$sum\": 1}  # Count the number of establishments in each group\n",
    "    }},\n",
    "    {\"$sort\": {\"count\": -1}}  # Sort by the count in descending order (highest to lowest)\n",
    "]\n",
    "\n",
    "# Execute the aggregation pipeline\n",
    "results = list(establishments.aggregate(pipeline))\n",
    "\n",
    "# Print the number of documents in the result\n",
    "print(f\"Number of Local Authorities with establishments having a hygiene score of 0: {len(results)}\")\n",
    "\n",
    "# Print the first 10 results\n",
    "for result in results[:10]:\n",
    "    print(result)\n"
   ]
  },
  {
   "cell_type": "code",
   "execution_count": 127,
   "id": "d8aab364",
   "metadata": {},
   "outputs": [
    {
     "name": "stdout",
     "output_type": "stream",
     "text": [
      "Number of rows in the DataFrame: 0\n"
     ]
    },
    {
     "data": {
      "text/html": [
       "<div>\n",
       "<style scoped>\n",
       "    .dataframe tbody tr th:only-of-type {\n",
       "        vertical-align: middle;\n",
       "    }\n",
       "\n",
       "    .dataframe tbody tr th {\n",
       "        vertical-align: top;\n",
       "    }\n",
       "\n",
       "    .dataframe thead th {\n",
       "        text-align: right;\n",
       "    }\n",
       "</style>\n",
       "<table border=\"1\" class=\"dataframe\">\n",
       "  <thead>\n",
       "    <tr style=\"text-align: right;\">\n",
       "      <th></th>\n",
       "    </tr>\n",
       "  </thead>\n",
       "  <tbody>\n",
       "  </tbody>\n",
       "</table>\n",
       "</div>"
      ],
      "text/plain": [
       "Empty DataFrame\n",
       "Columns: []\n",
       "Index: []"
      ]
     },
     "execution_count": 127,
     "metadata": {},
     "output_type": "execute_result"
    }
   ],
   "source": [
    "# Convert the result to a Pandas DataFrame\n",
    "df_hygiene_0_by_authority = pd.DataFrame(results)\n",
    "\n",
    "# Rename the columns for better readability\n",
    "df_hygiene_0_by_authority.rename(columns={\"_id\": \"LocalAuthorityName\", \"count\": \"Number of Establishments\"}, inplace=True)\n",
    "\n",
    "# Display the number of rows in the DataFrame\n",
    "print(f\"Number of rows in the DataFrame: {len(df_hygiene_0_by_authority)}\")\n",
    "\n",
    "# Display the first 10 rows of the DataFrame\n",
    "df_hygiene_0_by_authority.head(10)"
   ]
  },
  {
   "cell_type": "code",
   "execution_count": null,
   "id": "81446378-81e5-43e1-8d07-0662eb9a501a",
   "metadata": {},
   "outputs": [],
   "source": []
  }
 ],
 "metadata": {
  "kernelspec": {
   "display_name": "Python 3 (ipykernel)",
   "language": "python",
   "name": "python3"
  },
  "language_info": {
   "codemirror_mode": {
    "name": "ipython",
    "version": 3
   },
   "file_extension": ".py",
   "mimetype": "text/x-python",
   "name": "python",
   "nbconvert_exporter": "python",
   "pygments_lexer": "ipython3",
   "version": "3.12.4"
  }
 },
 "nbformat": 4,
 "nbformat_minor": 5
}
