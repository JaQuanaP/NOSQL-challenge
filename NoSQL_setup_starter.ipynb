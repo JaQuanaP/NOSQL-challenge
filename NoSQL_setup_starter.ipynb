{
 "cells": [
  {
   "cell_type": "markdown",
   "id": "9a57c4c6",
   "metadata": {},
   "source": [
    "# Eat Safe, Love"
   ]
  },
  {
   "cell_type": "markdown",
   "id": "064ef857",
   "metadata": {},
   "source": [
    "## Part 1: Database and Jupyter Notebook Set Up"
   ]
  },
  {
   "cell_type": "markdown",
   "id": "664e3c1f",
   "metadata": {},
   "source": [
    "Import the data provided in the `establishments.json` file from your Terminal. Name the database `uk_food` and the collection `establishments`.\n",
    "\n",
    "Within this markdown cell, copy the line of text you used to import the data from your Terminal. This way, future analysts will be able to repeat your process.\n",
    "\n",
    "e.g.: Import the dataset with `YOUR IMPORT TEXT HERE`"
   ]
  },
  {
   "cell_type": "code",
   "execution_count": 15,
   "id": "ad428e09-7367-4e90-a1ce-eda29d5e3f73",
   "metadata": {},
   "outputs": [
    {
     "name": "stdout",
     "output_type": "stream",
     "text": [
      "Requirement already satisfied: pymongo in c:\\users\\pharr\\anaconda3\\lib\\site-packages (4.8.0)\n",
      "Requirement already satisfied: dnspython<3.0.0,>=1.16.0 in c:\\users\\pharr\\anaconda3\\lib\\site-packages (from pymongo) (2.6.1)\n"
     ]
    }
   ],
   "source": [
    "!pip install pymongo\n",
    "\n",
    "\n",
    "\n"
   ]
  },
  {
   "cell_type": "code",
   "execution_count": 17,
   "id": "3ecdd008",
   "metadata": {},
   "outputs": [],
   "source": [
    "# Import dependencies\n",
    "import pymongo\n",
    "from pprint import pprint"
   ]
  },
  {
   "cell_type": "code",
   "execution_count": 21,
   "id": "59390c4a",
   "metadata": {},
   "outputs": [],
   "source": [
    "from pymongo import MongoClient\n",
    "\n",
    "# Create an instance of MongoClient\n",
    "mongo = MongoClient(port=27017)\n"
   ]
  },
  {
   "cell_type": "code",
   "execution_count": 23,
   "id": "22aa25ac-69e1-4b72-8148-36b33ad149d2",
   "metadata": {},
   "outputs": [
    {
     "name": "stdout",
     "output_type": "stream",
     "text": [
      "Databases on the server: ['admin', 'config', 'local', 'uk_food', 'uk_foods']\n",
      "The 'uk_food' database was successfully created.\n"
     ]
    }
   ],
   "source": [
    "# List all databases\n",
    "databases = mongo.list_database_names()\n",
    "\n",
    "# Print the list of databases\n",
    "print(\"Databases on the server:\", databases)\n",
    "\n",
    "# Check if 'uk_food' database exists\n",
    "if 'uk_food' in databases:\n",
    "    print(\"The 'uk_food' database was successfully created.\")\n",
    "else:\n",
    "    print(\"The 'uk_food' database was not found.\")\n"
   ]
  },
  {
   "cell_type": "code",
   "execution_count": 29,
   "id": "6a0d92df",
   "metadata": {},
   "outputs": [],
   "source": [
    "# review a document in the establishments collection\n",
    "collection = db['establishments']\n"
   ]
  },
  {
   "cell_type": "code",
   "execution_count": 31,
   "id": "11c9f11b",
   "metadata": {},
   "outputs": [],
   "source": [
    "# assign the collection to a variable\n",
    "establishments = db['establishments']"
   ]
  },
  {
   "cell_type": "markdown",
   "id": "d5671434",
   "metadata": {},
   "source": [
    "## Part 2: Update the Database"
   ]
  },
  {
   "cell_type": "markdown",
   "id": "314bd884",
   "metadata": {},
   "source": [
    "1. An exciting new halal restaurant just opened in Greenwich, but hasn't been rated yet. The magazine has asked you to include it in your analysis. Add the following restaurant \"Penang Flavours\" to the database."
   ]
  },
  {
   "cell_type": "code",
   "execution_count": 63,
   "id": "c2da7648",
   "metadata": {},
   "outputs": [],
   "source": [
    "penang_flavours = {\n",
    "    'BusinessName': 'Penang Flavours', \n",
    "    'BusinessType': 'Restaurant/Cafe/Canteen', \n",
    "    'BusinessTypeID': 1, \n",
    "    'AddressLine1': 'Penang Flavours', \n",
    "    'AddressLine2': '146A Plumstead Rd', \n",
    "    'AddressLine3': 'London',\n",
    "    'AddressLine4': '', \n",
    "    'PostCode': 'SE18 7DY',\n",
    "    'Phone': '', \n",
    "    'LocalAuthorityCode': '511', \n",
    "    'LocalAuthorityName': 'Greenwich', \n",
    "    'LocalAuthorityWebSite': 'http://www.royalgreenwich.gov.uk', \n",
    "    'LocalAuthorityEmailAddress': 'health@royalgreenwich.gov.uk', \n",
    "    'scores': {\n",
    "        'Hygiene': '', \n",
    "        'Structural': '', \n",
    "        'ConfidenceInManagement': ''\n",
    "    }, \n",
    "    'SchemeType': 'FHRS',\n",
    "    'geocode': {\n",
    "        'longitude': 0.08384, \n",
    "        'latitude': 51.490142\n",
    "    }, \n",
    "    'RightToReply': '',\n",
    "    'Distance': 4623.972328074718, \n",
    "    'NewRatingPending': True\n",
    "}\n",
    "\n"
   ]
  },
  {
   "cell_type": "code",
   "execution_count": 65,
   "id": "a6e5cece",
   "metadata": {},
   "outputs": [],
   "source": [
    "# Insert the new restaurant into the collection\n",
    "insert_result = collection.insert_one(penang_flavours)"
   ]
  },
  {
   "cell_type": "code",
   "execution_count": 67,
   "id": "63bb10f9",
   "metadata": {},
   "outputs": [
    {
     "name": "stdout",
     "output_type": "stream",
     "text": [
      "Inserted document ID: 66ce9192f8e1c7b2220b1ff1\n"
     ]
    }
   ],
   "source": [
    "# Check that the new restaurant was inserted\n",
    "print(f'Inserted document ID: {insert_result.inserted_id}')"
   ]
  },
  {
   "cell_type": "markdown",
   "id": "0ef4395a",
   "metadata": {},
   "source": [
    "2. Find the BusinessTypeID for \"Restaurant/Cafe/Canteen\" and return only the `BusinessTypeID` and `BusinessType` fields."
   ]
  },
  {
   "cell_type": "code",
   "execution_count": 70,
   "id": "93c63829",
   "metadata": {},
   "outputs": [
    {
     "name": "stdout",
     "output_type": "stream",
     "text": [
      "{'BusinessType': 'Restaurant/Cafe/Canteen', 'BusinessTypeID': 1}\n"
     ]
    }
   ],
   "source": [
    "# Find the BusinessTypeID for \"Restaurant/Cafe/Canteen\" and return only the BusinessTypeID and BusinessType fields\n",
    "result = collection.find_one(\n",
    "    {'BusinessType': 'Restaurant/Cafe/Canteen'},  # Query condition\n",
    "    {'BusinessTypeID': 1, 'BusinessType': 1, '_id': 0}  # Projection: include BusinessTypeID and BusinessType, exclude _id\n",
    ")\n",
    "\n",
    "# Print the result\n",
    "print(result)"
   ]
  },
  {
   "cell_type": "markdown",
   "id": "4e570caf",
   "metadata": {},
   "source": [
    "3. Update the new restaurant with the `BusinessTypeID` you found."
   ]
  },
  {
   "cell_type": "code",
   "execution_count": 75,
   "id": "7f599f3d",
   "metadata": {},
   "outputs": [
    {
     "name": "stdout",
     "output_type": "stream",
     "text": [
      "No document was updated. Check if the restaurant exists in the database.\n"
     ]
    }
   ],
   "source": [
    "# Update the new restaurant with the correct BusinessTypeID\n",
    "correct_business_type_id = 1  \n",
    "\n",
    "# Update the document for \"Penang Flavours\" with the correct BusinessTypeID\n",
    "update_result = collection.update_one(\n",
    "    {'BusinessName': 'Penang Flavours'},  # Query to find the document\n",
    "    {'$set': {'BusinessTypeID': correct_business_type_id}}  # Correct way to set the BusinessTypeID\n",
    ")\n",
    "\n",
    "\n",
    "# Check if the update was successful\n",
    "if update_result.modified_count > 0:\n",
    "    print(\"BusinessTypeID successfully updated.\")\n",
    "else:\n",
    "    print(\"No document was updated. Check if the restaurant exists in the database.\")"
   ]
  },
  {
   "cell_type": "code",
   "execution_count": 77,
   "id": "70146390-d20c-464a-893c-2f40920b9587",
   "metadata": {},
   "outputs": [
    {
     "name": "stdout",
     "output_type": "stream",
     "text": [
      "Document found:\n",
      "{'_id': ObjectId('66c7496be21dd31456b20b1e'), 'BusinessName': 'Penang Flavours', 'BusinessType': 'Restaurant/Cafe/Canteen', 'BusinessTypeID': 1, 'AddressLine1': 'Penang Flavours', 'AddressLine2': '146A Plumstead Rd', 'AddressLine3': 'London', 'AddressLine4': '', 'PostCode': 'SE18 7DY', 'Phone': '', 'LocalAuthorityCode': '511', 'LocalAuthorityName': 'Greenwich', 'LocalAuthorityWebSite': 'http://www.royalgreenwich.gov.uk', 'LocalAuthorityEmailAddress': 'health@royalgreenwich.gov.uk', 'scores': {'Hygiene': '', 'Structural': '', 'ConfidenceInManagement': ''}, 'SchemeType': 'FHRS', 'geocode': {'longitude': 0.08384, 'latitude': 51.490142}, 'RightToReply': '', 'Distance': 4623.972328074718, 'NewRatingPending': True}\n"
     ]
    }
   ],
   "source": [
    "# Check if the \"Penang Flavours\" document exists in the collection\n",
    "restaurant = collection.find_one({'BusinessName': 'Penang Flavours'})\n",
    "\n",
    "# Print the document if it exists\n",
    "if restaurant:\n",
    "    print(\"Document found:\")\n",
    "    print(restaurant)\n",
    "else:\n",
    "    print(\"The document 'Penang Flavours' does not exist in the database.\")\n"
   ]
  },
  {
   "cell_type": "markdown",
   "id": "67281254",
   "metadata": {},
   "source": [
    "4. The magazine is not interested in any establishments in Dover, so check how many documents contain the Dover Local Authority. Then, remove any establishments within the Dover Local Authority from the database, and check the number of documents to ensure they were deleted."
   ]
  },
  {
   "cell_type": "code",
   "execution_count": 79,
   "id": "768474a6",
   "metadata": {},
   "outputs": [
    {
     "name": "stdout",
     "output_type": "stream",
     "text": [
      "Number of documents with LocalAuthorityName as 'Dover': 0\n"
     ]
    }
   ],
   "source": [
    "# Count the number of documents with LocalAuthorityName as \"Dover\"\n",
    "dover_count = collection.count_documents({'LocalAuthorityName': 'Dover'})\n",
    "\n",
    "# Print the result\n",
    "print(f\"Number of documents with LocalAuthorityName as 'Dover': {dover_count}\")\n",
    "\n"
   ]
  },
  {
   "cell_type": "code",
   "execution_count": 81,
   "id": "8c356f7b",
   "metadata": {},
   "outputs": [
    {
     "name": "stdout",
     "output_type": "stream",
     "text": [
      "{'_id': ObjectId('66c7496be21dd31456b20b1e'), 'BusinessName': 'Penang Flavours', 'BusinessType': 'Restaurant/Cafe/Canteen', 'BusinessTypeID': 1, 'AddressLine1': 'Penang Flavours', 'AddressLine2': '146A Plumstead Rd', 'AddressLine3': 'London', 'AddressLine4': '', 'PostCode': 'SE18 7DY', 'Phone': '', 'LocalAuthorityCode': '511', 'LocalAuthorityName': 'Greenwich', 'LocalAuthorityWebSite': 'http://www.royalgreenwich.gov.uk', 'LocalAuthorityEmailAddress': 'health@royalgreenwich.gov.uk', 'scores': {'Hygiene': '', 'Structural': '', 'ConfidenceInManagement': ''}, 'SchemeType': 'FHRS', 'geocode': {'longitude': 0.08384, 'latitude': 51.490142}, 'RightToReply': '', 'Distance': 4623.972328074718, 'NewRatingPending': True}\n"
     ]
    }
   ],
   "source": [
    "# Retrieve any one document from the collection\n",
    "document = collection.find_one()\n",
    "\n",
    "# Print the document to verify\n",
    "print(document)\n",
    "\n"
   ]
  },
  {
   "attachments": {},
   "cell_type": "markdown",
   "id": "e9f1662d",
   "metadata": {},
   "source": [
    "5. Some of the number values are stored as strings, when they should be stored as numbers."
   ]
  },
  {
   "attachments": {},
   "cell_type": "markdown",
   "id": "c46df2df",
   "metadata": {},
   "source": [
    "Use `update_many` to convert `latitude` and `longitude` to decimal numbers."
   ]
  },
  {
   "cell_type": "code",
   "execution_count": 85,
   "id": "fd4112ce",
   "metadata": {},
   "outputs": [
    {
     "data": {
      "text/plain": [
       "UpdateResult({'n': 0, 'nModified': 0, 'ok': 1.0, 'updatedExisting': False}, acknowledged=True)"
      ]
     },
     "execution_count": 85,
     "metadata": {},
     "output_type": "execute_result"
    }
   ],
   "source": [
    "# Connect to your MongoDB database and collection\n",
    "import pymongo\n",
    "client = pymongo.MongoClient(\"mongodb://localhost:27017/\")\n",
    "db = client[\"your_database_name\"]\n",
    "collection = db[\"your_collection_name\"]\n",
    "\n",
    "# Update latitude and longitude fields to decimal numbers\n",
    "collection.update_many({}, [\n",
    "    {'$set': {'latitude': {'$toDouble': \"$latitude\"}}},\n",
    "    {'$set': {'longitude': {'$toDouble': \"$longitude\"}}}\n",
    "])\n",
    "\n",
    "\n"
   ]
  },
  {
   "attachments": {},
   "cell_type": "markdown",
   "id": "142e319c",
   "metadata": {},
   "source": [
    "Use `update_many` to convert `RatingValue` to integer numbers."
   ]
  },
  {
   "cell_type": "code",
   "execution_count": 88,
   "id": "04430a5b",
   "metadata": {},
   "outputs": [
    {
     "data": {
      "text/plain": [
       "UpdateResult({'n': 0, 'nModified': 0, 'ok': 1.0, 'updatedExisting': False}, acknowledged=True)"
      ]
     },
     "execution_count": 88,
     "metadata": {},
     "output_type": "execute_result"
    }
   ],
   "source": [
    "# Set non 1-5 Rating Values to Null\n",
    "non_ratings = [\"AwaitingInspection\", \"Awaiting Inspection\", \"AwaitingPublication\", \"Pass\", \"Exempt\"]\n",
    "establishments.update_many({\"RatingValue\": {\"$in\": non_ratings}}, [ {'$set':{ \"RatingValue\" : None}} ])"
   ]
  },
  {
   "cell_type": "code",
   "execution_count": 100,
   "id": "92524ccc",
   "metadata": {},
   "outputs": [
    {
     "name": "stdout",
     "output_type": "stream",
     "text": [
      "1\n"
     ]
    }
   ],
   "source": [
    "# Change the data type from String to Integer for RatingValue\n",
    "doc = {\n",
    "    'RatingValue': '1'  \n",
    "}\n",
    "\n",
    "# Convert 'RatingValue' from string to integer\n",
    "rating_value_int = int(doc['RatingValue'])\n",
    "\n",
    "print(rating_value_int)  "
   ]
  },
  {
   "cell_type": "code",
   "execution_count": 106,
   "id": "0deacaf9",
   "metadata": {},
   "outputs": [
    {
     "name": "stdout",
     "output_type": "stream",
     "text": [
      "Longitude type: <class 'float'>\n",
      "Latitude type: <class 'float'>\n",
      "RatingValue type: <class 'NoneType'>\n"
     ]
    }
   ],
   "source": [
    "# Assuming document is a dictionary containing the updated data with 'geocode' for coordinates and 'RatingValue' for the rating value\n",
    "document = {\n",
    "    'geocode': {\n",
    "        'longitude': 100.123,  # Example decimal value for longitude\n",
    "        'latitude': 25.678  # Example decimal value for latitude\n",
    "    }\n",
    "}\n",
    "\n",
    "# Check the data types of longitude, latitude, and RatingValue if it exists\n",
    "longitude_type = type(document['geocode']['longitude'])\n",
    "latitude_type = type(document['geocode']['latitude'])\n",
    "rating_value_type = type(document.get('RatingValue', None))  # Use get() method to avoid KeyError\n",
    "\n",
    "# Print the data types\n",
    "print(f\"Longitude type: {longitude_type}\")\n",
    "print(f\"Latitude type: {latitude_type}\")\n",
    "print(f\"RatingValue type: {rating_value_type}\")\n"
   ]
  },
  {
   "cell_type": "code",
   "execution_count": 110,
   "id": "f2103ba6-a1be-449f-afa2-f9d5b320f1c1",
   "metadata": {},
   "outputs": [],
   "source": [
    "mongo.close()"
   ]
  },
  {
   "cell_type": "code",
   "execution_count": null,
   "id": "bc39a6e1-06b5-483d-9004-2f3dbc951120",
   "metadata": {},
   "outputs": [],
   "source": []
  }
 ],
 "metadata": {
  "kernelspec": {
   "display_name": "Python 3 (ipykernel)",
   "language": "python",
   "name": "python3"
  },
  "language_info": {
   "codemirror_mode": {
    "name": "ipython",
    "version": 3
   },
   "file_extension": ".py",
   "mimetype": "text/x-python",
   "name": "python",
   "nbconvert_exporter": "python",
   "pygments_lexer": "ipython3",
   "version": "3.12.4"
  }
 },
 "nbformat": 4,
 "nbformat_minor": 5
}
